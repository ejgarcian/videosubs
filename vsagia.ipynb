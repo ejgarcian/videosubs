{
 "cells": [
  {
   "cell_type": "code",
   "execution_count": null,
   "metadata": {},
   "outputs": [],
   "source": [
    "pip install -U openai-whisper"
   ]
  },
  {
   "cell_type": "code",
   "execution_count": null,
   "metadata": {},
   "outputs": [],
   "source": [
    "pip install setuptools-rust"
   ]
  },
  {
   "cell_type": "code",
   "execution_count": null,
   "metadata": {},
   "outputs": [],
   "source": [
    "# **********************************************************************************************************\n",
    "# This is a Script to create subs close caption file .str video from a video file .mp4 as a source\n",
    "# Whysper is a powerful tool that can automatically generate subtitles for any video file\n",
    "# It uses speech recognition and natural language processing to create accurate and synchronized captions\n",
    "# To run this script, you need to have Whysper installed on your computer and provide the path to the video \n",
    "# file .mp4 as an argument.\n",
    "# The script will output a .str file with the same name as the video file in the same directory\n",
    "# You can then use any video player that supports .str files to watch the video with subtitles.\n",
    "# *********************************************************************************************************\n",
    "#\n",
    "# Prepare the environment firts with the commands:\n",
    "#\n",
    "# pip install -U openai-whisper\n",
    "# pip install setuptools-rust\n",
    "\n",
    "\n",
    "\n",
    "#Declare Libraries\n",
    "from contextlib import suppress\n",
    "from datetime import timedelta\n",
    "import os\n",
    "import whisper\n",
    "\n",
    "#Global settings\n",
    "model = whisper.load_model(\"base\",device=\"cuda:0\") # Change this to your desired model\n",
    "\n",
    "path = \"VIDEO FOLDER PATH HERE\"\n",
    "#path = \"C:\\\\Users\\\\ejgar\\\\OneDrive\\\\Documentos\\\\Sound Recordings\\\\\"\n",
    "\n",
    "print(\"Whisper model loaded.\")\n",
    "\n",
    "#Video to text function\n",
    "def transcribe_audio(audio):\n",
    "    srtFilename = os.path.join(path, f\"close_caption_subs.srt\")\n",
    "\n",
    "    with suppress(Exception):\n",
    "        os.remove(srtFilename)\n",
    "   \n",
    "    print(\"Processing...\")\n",
    "    \n",
    "    #use to translaate directly to english\n",
    "    #transcribe = model.transcribe(path + audio, task=\"translate\") \n",
    "    #use to translate form english to spanish \n",
    "    transcribe = model.transcribe(path + audio, task=\"translate\", language=\"es\")\n",
    "\n",
    "    print(\"File audio extracted\")\n",
    "    #print(transcribe[\"text\"])\n",
    "\n",
    "    segments = transcribe['segments']\n",
    "\n",
    "    for segment in segments:\n",
    "        startTime = str(0)+str(timedelta(seconds=int(segment['start'])))+',000'\n",
    "        endTime = str(0)+str(timedelta(seconds=int(segment['end'])))+',000'\n",
    "        text = segment['text']\n",
    "        segmentId = segment['id']+1\n",
    "        \n",
    "        with suppress(Exception):\n",
    "            segment = f\"{segmentId}\\n{startTime} --> {endTime}\\n{text[1:] if text[0] == ' ' else text}\\n\\n\"\n",
    "            print(\"Line: \" + segment)\n",
    "            with open(srtFilename, 'a', encoding='utf-8') as srtFile:\n",
    "                srtFile.write(segment)            \n",
    "    return srtFilename\n",
    "\n",
    "#Run extraction audio and create the closed caption subs\n",
    "file = \"YOUR--VIDEO--FILE.mp4\"\n",
    "\n",
    "print(\"Converting audio to text using whisper and cuda \" + file)\n",
    "result = transcribe_audio(file)\n",
    "print(result)"
   ]
  }
 ],
 "metadata": {
  "kernelspec": {
   "display_name": "base",
   "language": "python",
   "name": "python3"
  },
  "language_info": {
   "codemirror_mode": {
    "name": "ipython",
    "version": 3
   },
   "file_extension": ".py",
   "mimetype": "text/x-python",
   "name": "python",
   "nbconvert_exporter": "python",
   "pygments_lexer": "ipython3",
   "version": "3.10.9"
  },
  "orig_nbformat": 4
 },
 "nbformat": 4,
 "nbformat_minor": 2
}
